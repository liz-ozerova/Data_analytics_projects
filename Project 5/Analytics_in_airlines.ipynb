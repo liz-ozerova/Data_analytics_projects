{
 "cells": [
  {
   "cell_type": "markdown",
   "metadata": {},
   "source": [
    "# Аналитика в авиакомпании"
   ]
  },
  {
   "cell_type": "markdown",
   "metadata": {},
   "source": [
    "***Описание проекта***\n",
    "    Для анализа представлены датасеты с информацией о рейсах, моделях самолетов, городах вылета. Необходимо импортировать файлы,  изучить данные в них, проверить типы данных на корректность, выбрать топ-10 городов по количеству рейсов, построить графики: модели самолетов и количество рейсов, топ-10 городов и количество рейсов, сделать выводы по каждому из графиков, пояснить результат.\n",
    "\n",
    "***Краткое описание данных, представленных в датасетах***:\n",
    "\n",
    "**dataset1** количество рейсов для разных моделей самолетов в сентябре 2018 года:\n",
    "\n",
    "    model — модель самолета\n",
    "    flights_amount — количество рейсов для каждой модели самолетов model в сентябре 2018 года\n",
    "    \n",
    "**dataset2** среднее количество рейсов, прибывающих в город city за день в августе 2018 года:\n",
    "\n",
    "    city — город\n",
    "    average_flights — среднее количество рейсов, прибывающих в город city за день в августе 2018 года\n",
    "\n",
    "***Содержание проекта***\n",
    "\n",
    "1. <a href='#the_destination'>Анализ исходных данных</a>\n",
    "\n",
    "    1.1  <a href='#the_destination2'>Загрузка необходимых библиотек</a>\n",
    "\n",
    "    1.2 <a href='#the_destination3'>Загрузка датасета1 и предварительный анализ</a>\n",
    " \n",
    "    1.3 <a href='#the_destination4'>Загрузка датасета2 и предварительный анализ</a>\n",
    "    \n",
    "    1.4 <a href='#the_destination5'>Изменение типов данных датасета2</a>\n",
    "    \n",
    "<a href='#the_destination6'>Вывод по разделу 1</a>\n",
    "\n",
    "2. <a href='#the_destination7'>Исследовательский анализ данных</a>\n",
    "    \n",
    "    2.1. <a href='#the_destination8'>Анализ взаимосвязи моделей самолетов и количества рейсов</a>\n",
    "    \n",
    "    2.2. <a href='#the_destination9'>Анализ взаимосвязи города, расположения аэропорта, и количества рейсов</a>\n",
    "    \n",
    "    2.2.1. <a href='#the_destination10'>Выбор топ-10 городов по количеству рейсов</a>\n",
    "    \n",
    "    2.2.2. <a href='#the_destination11'>Построение графиков для топ-10 городов по количеству рейсов</a>\n",
    "\n",
    "<a href='#the_destination12'>Вывод по разделу 2</a>\n",
    "\n",
    "<a href='#the_destination13'>Общий вывод</a>   \n"
   ]
  },
  {
   "cell_type": "markdown",
   "metadata": {},
   "source": [
    "<a id='the_destination'></a>\n",
    "# 1. Анализ исходных данных."
   ]
  },
  {
   "cell_type": "markdown",
   "metadata": {},
   "source": [
    "<a id='the_destination2'></a>\n",
    "## 1.1. Загрузка необходимых библиотек"
   ]
  },
  {
   "cell_type": "code",
   "execution_count": 1,
   "metadata": {},
   "outputs": [],
   "source": [
    "import pandas as pd\n",
    "import seaborn as sns\n",
    "import matplotlib.pyplot as plt\n",
    "import warnings\n",
    "warnings.simplefilter(\"ignore\")\n",
    "import plotly\n",
    "import plotly.express as px"
   ]
  },
  {
   "cell_type": "markdown",
   "metadata": {},
   "source": [
    "<a id='the_destination3'></a>\n",
    "## 1.2. Загрузка датасета1 и предварительный анализ"
   ]
  },
  {
   "cell_type": "markdown",
   "metadata": {},
   "source": [
    "Для оценки данных, содержащихся в датасете, загрузим данные при помощи библиотеки pandas, далее произведем оценку\n",
    "количества пропущенных значений, вызывав метод info, после чего оценим первые 10 строк, произведя вывод их на экран\n",
    "методом head. Проверку на дубликаты осуществим методом duplicated().sum()."
   ]
  },
  {
   "cell_type": "code",
   "execution_count": 2,
   "metadata": {},
   "outputs": [
    {
     "name": "stdout",
     "output_type": "stream",
     "text": [
      "<class 'pandas.core.frame.DataFrame'>\n",
      "RangeIndex: 8 entries, 0 to 7\n",
      "Data columns (total 2 columns):\n",
      "model             8 non-null object\n",
      "flights_amount    8 non-null int64\n",
      "dtypes: int64(1), object(1)\n",
      "memory usage: 256.0+ bytes\n"
     ]
    },
    {
     "data": {
      "text/html": [
       "<div>\n",
       "<style scoped>\n",
       "    .dataframe tbody tr th:only-of-type {\n",
       "        vertical-align: middle;\n",
       "    }\n",
       "\n",
       "    .dataframe tbody tr th {\n",
       "        vertical-align: top;\n",
       "    }\n",
       "\n",
       "    .dataframe thead th {\n",
       "        text-align: right;\n",
       "    }\n",
       "</style>\n",
       "<table border=\"1\" class=\"dataframe\">\n",
       "  <thead>\n",
       "    <tr style=\"text-align: right;\">\n",
       "      <th></th>\n",
       "      <th>model</th>\n",
       "      <th>flights_amount</th>\n",
       "    </tr>\n",
       "  </thead>\n",
       "  <tbody>\n",
       "    <tr>\n",
       "      <td>0</td>\n",
       "      <td>Airbus A319-100</td>\n",
       "      <td>607</td>\n",
       "    </tr>\n",
       "    <tr>\n",
       "      <td>1</td>\n",
       "      <td>Airbus A321-200</td>\n",
       "      <td>960</td>\n",
       "    </tr>\n",
       "    <tr>\n",
       "      <td>2</td>\n",
       "      <td>Boeing 737-300</td>\n",
       "      <td>630</td>\n",
       "    </tr>\n",
       "    <tr>\n",
       "      <td>3</td>\n",
       "      <td>Boeing 767-300</td>\n",
       "      <td>600</td>\n",
       "    </tr>\n",
       "    <tr>\n",
       "      <td>4</td>\n",
       "      <td>Boeing 777-300</td>\n",
       "      <td>300</td>\n",
       "    </tr>\n",
       "    <tr>\n",
       "      <td>5</td>\n",
       "      <td>Bombardier CRJ-200</td>\n",
       "      <td>4446</td>\n",
       "    </tr>\n",
       "    <tr>\n",
       "      <td>6</td>\n",
       "      <td>Cessna 208 Caravan</td>\n",
       "      <td>4557</td>\n",
       "    </tr>\n",
       "    <tr>\n",
       "      <td>7</td>\n",
       "      <td>Sukhoi SuperJet-100</td>\n",
       "      <td>4185</td>\n",
       "    </tr>\n",
       "  </tbody>\n",
       "</table>\n",
       "</div>"
      ],
      "text/plain": [
       "                 model  flights_amount\n",
       "0      Airbus A319-100             607\n",
       "1      Airbus A321-200             960\n",
       "2       Boeing 737-300             630\n",
       "3       Boeing 767-300             600\n",
       "4       Boeing 777-300             300\n",
       "5   Bombardier CRJ-200            4446\n",
       "6   Cessna 208 Caravan            4557\n",
       "7  Sukhoi SuperJet-100            4185"
      ]
     },
     "metadata": {},
     "output_type": "display_data"
    },
    {
     "name": "stdout",
     "output_type": "stream",
     "text": [
      "Количество дубликатов 0\n"
     ]
    }
   ],
   "source": [
    "# Загрузка датасета\n",
    "aircrafts_data = pd.read_csv('/datasets/query_1.csv')\n",
    "# Вызов данных о датасете\n",
    "aircrafts_data.info()\n",
    "# Вывод первых 20 строк\n",
    "display(aircrafts_data.head(10))\n",
    "# Проверка на наличие дубликатов\n",
    "print('Количество дубликатов', aircrafts_data.duplicated().sum())"
   ]
  },
  {
   "cell_type": "markdown",
   "metadata": {},
   "source": [
    "Данные выглядят корректно - количество полетов отражается в виде переменной int64, тип модели - строковой переменной, пропусков или дублирующих данных в таблице нет."
   ]
  },
  {
   "cell_type": "markdown",
   "metadata": {},
   "source": [
    "<a id='the_destination4'></a>\n",
    "## 1.3. Загрузка датасета 2 и предварительный анализ"
   ]
  },
  {
   "cell_type": "code",
   "execution_count": 3,
   "metadata": {},
   "outputs": [
    {
     "name": "stdout",
     "output_type": "stream",
     "text": [
      "<class 'pandas.core.frame.DataFrame'>\n",
      "RangeIndex: 101 entries, 0 to 100\n",
      "Data columns (total 2 columns):\n",
      "city               101 non-null object\n",
      "average_flights    101 non-null float64\n",
      "dtypes: float64(1), object(1)\n",
      "memory usage: 1.7+ KB\n"
     ]
    },
    {
     "data": {
      "text/html": [
       "<div>\n",
       "<style scoped>\n",
       "    .dataframe tbody tr th:only-of-type {\n",
       "        vertical-align: middle;\n",
       "    }\n",
       "\n",
       "    .dataframe tbody tr th {\n",
       "        vertical-align: top;\n",
       "    }\n",
       "\n",
       "    .dataframe thead th {\n",
       "        text-align: right;\n",
       "    }\n",
       "</style>\n",
       "<table border=\"1\" class=\"dataframe\">\n",
       "  <thead>\n",
       "    <tr style=\"text-align: right;\">\n",
       "      <th></th>\n",
       "      <th>city</th>\n",
       "      <th>average_flights</th>\n",
       "    </tr>\n",
       "  </thead>\n",
       "  <tbody>\n",
       "    <tr>\n",
       "      <td>0</td>\n",
       "      <td>Абакан</td>\n",
       "      <td>3.870968</td>\n",
       "    </tr>\n",
       "    <tr>\n",
       "      <td>1</td>\n",
       "      <td>Анадырь</td>\n",
       "      <td>1.000000</td>\n",
       "    </tr>\n",
       "    <tr>\n",
       "      <td>2</td>\n",
       "      <td>Анапа</td>\n",
       "      <td>2.161290</td>\n",
       "    </tr>\n",
       "    <tr>\n",
       "      <td>3</td>\n",
       "      <td>Архангельск</td>\n",
       "      <td>5.354839</td>\n",
       "    </tr>\n",
       "    <tr>\n",
       "      <td>4</td>\n",
       "      <td>Астрахань</td>\n",
       "      <td>2.451613</td>\n",
       "    </tr>\n",
       "    <tr>\n",
       "      <td>5</td>\n",
       "      <td>Барнаул</td>\n",
       "      <td>2.612903</td>\n",
       "    </tr>\n",
       "    <tr>\n",
       "      <td>6</td>\n",
       "      <td>Белгород</td>\n",
       "      <td>6.000000</td>\n",
       "    </tr>\n",
       "    <tr>\n",
       "      <td>7</td>\n",
       "      <td>Белоярский</td>\n",
       "      <td>2.000000</td>\n",
       "    </tr>\n",
       "    <tr>\n",
       "      <td>8</td>\n",
       "      <td>Благовещенск</td>\n",
       "      <td>1.000000</td>\n",
       "    </tr>\n",
       "    <tr>\n",
       "      <td>9</td>\n",
       "      <td>Братск</td>\n",
       "      <td>1.000000</td>\n",
       "    </tr>\n",
       "  </tbody>\n",
       "</table>\n",
       "</div>"
      ],
      "text/plain": [
       "           city  average_flights\n",
       "0        Абакан         3.870968\n",
       "1       Анадырь         1.000000\n",
       "2         Анапа         2.161290\n",
       "3   Архангельск         5.354839\n",
       "4     Астрахань         2.451613\n",
       "5       Барнаул         2.612903\n",
       "6      Белгород         6.000000\n",
       "7    Белоярский         2.000000\n",
       "8  Благовещенск         1.000000\n",
       "9        Братск         1.000000"
      ]
     },
     "metadata": {},
     "output_type": "display_data"
    },
    {
     "name": "stdout",
     "output_type": "stream",
     "text": [
      "Количество дубликатов 0\n"
     ]
    }
   ],
   "source": [
    "# Загрузка датасета\n",
    "flights_data = pd.read_csv('/datasets/query_3.csv')\n",
    "# Вызов данных о датасете\n",
    "flights_data.info()\n",
    "# Вывод первых 20 строк\n",
    "display(flights_data.head(10))\n",
    "# Проверка на наличие дубликатов\n",
    "print('Количество дубликатов', flights_data.duplicated().sum())"
   ]
  },
  {
   "cell_type": "markdown",
   "metadata": {},
   "source": [
    "Данные выглядят корректно - среднее количество полетов отражается в виде переменной  float64, тип модели - строковой переменной, пропусков или дублирующих данных в таблице нет. Так как в дальнейшем мы будем обрабатывать и строить графики по количеству рейсов, то целесообразно округлить среднее количество рейсов до целочисленного значения и перевести в тип int64."
   ]
  },
  {
   "cell_type": "markdown",
   "metadata": {},
   "source": [
    "<a id='the_destination5'></a>\n",
    "## 1.4. Изменения типа данных датасета2"
   ]
  },
  {
   "cell_type": "code",
   "execution_count": 4,
   "metadata": {},
   "outputs": [
    {
     "data": {
      "text/html": [
       "<div>\n",
       "<style scoped>\n",
       "    .dataframe tbody tr th:only-of-type {\n",
       "        vertical-align: middle;\n",
       "    }\n",
       "\n",
       "    .dataframe tbody tr th {\n",
       "        vertical-align: top;\n",
       "    }\n",
       "\n",
       "    .dataframe thead th {\n",
       "        text-align: right;\n",
       "    }\n",
       "</style>\n",
       "<table border=\"1\" class=\"dataframe\">\n",
       "  <thead>\n",
       "    <tr style=\"text-align: right;\">\n",
       "      <th></th>\n",
       "      <th>city</th>\n",
       "      <th>average_flights</th>\n",
       "    </tr>\n",
       "  </thead>\n",
       "  <tbody>\n",
       "    <tr>\n",
       "      <td>0</td>\n",
       "      <td>Абакан</td>\n",
       "      <td>4</td>\n",
       "    </tr>\n",
       "    <tr>\n",
       "      <td>1</td>\n",
       "      <td>Анадырь</td>\n",
       "      <td>1</td>\n",
       "    </tr>\n",
       "    <tr>\n",
       "      <td>2</td>\n",
       "      <td>Анапа</td>\n",
       "      <td>2</td>\n",
       "    </tr>\n",
       "    <tr>\n",
       "      <td>3</td>\n",
       "      <td>Архангельск</td>\n",
       "      <td>5</td>\n",
       "    </tr>\n",
       "    <tr>\n",
       "      <td>4</td>\n",
       "      <td>Астрахань</td>\n",
       "      <td>2</td>\n",
       "    </tr>\n",
       "  </tbody>\n",
       "</table>\n",
       "</div>"
      ],
      "text/plain": [
       "          city  average_flights\n",
       "0       Абакан                4\n",
       "1      Анадырь                1\n",
       "2        Анапа                2\n",
       "3  Архангельск                5\n",
       "4    Астрахань                2"
      ]
     },
     "metadata": {},
     "output_type": "display_data"
    },
    {
     "name": "stdout",
     "output_type": "stream",
     "text": [
      "<class 'pandas.core.frame.DataFrame'>\n",
      "RangeIndex: 101 entries, 0 to 100\n",
      "Data columns (total 2 columns):\n",
      "city               101 non-null object\n",
      "average_flights    101 non-null int64\n",
      "dtypes: int64(1), object(1)\n",
      "memory usage: 1.7+ KB\n"
     ]
    }
   ],
   "source": [
    "# Округление значения среднего количества вылетов до целого числа\n",
    "flights_data['average_flights'] = flights_data['average_flights'].round()\n",
    "flights_data['average_flights'] = flights_data['average_flights'].astype('int64', errors='raise')\n",
    "display(flights_data.head())\n",
    "flights_data.info()"
   ]
  },
  {
   "cell_type": "markdown",
   "metadata": {},
   "source": [
    "<a id='the_destination6'></a>\n",
    "# Вывод по разделу 1"
   ]
  },
  {
   "cell_type": "markdown",
   "metadata": {},
   "source": [
    "Был осуществлен импорт таблиц, проверена корректность данных. Данные в таблицах корректны, пропусков и дубликатов не обнаружено. Для датасета, содержащего информацию о среднем количестве полетов была осуществлена замена типа данных столбца количество полетов на целочисленное значение. "
   ]
  },
  {
   "cell_type": "markdown",
   "metadata": {},
   "source": [
    "<a id='the_destination7'></a>\n",
    "# 2. Исследовательский анализ данных"
   ]
  },
  {
   "cell_type": "code",
   "execution_count": 5,
   "metadata": {},
   "outputs": [],
   "source": [
    "def plot_names(ax, title, x_label, y_label):\n",
    "    ax.set_title(title)\n",
    "    ax.set_xlabel(x_label)\n",
    "    ax.set_ylabel(y_label)\n",
    "    ax.grid(True)"
   ]
  },
  {
   "cell_type": "markdown",
   "metadata": {},
   "source": [
    "<a id='the_destination8'></a>\n",
    "## 2.1. Анализ взаимосвязи моделей самолетов и количества рейсов"
   ]
  },
  {
   "cell_type": "code",
   "execution_count": 6,
   "metadata": {},
   "outputs": [
    {
     "data": {
      "text/html": [
       "<div>\n",
       "<style scoped>\n",
       "    .dataframe tbody tr th:only-of-type {\n",
       "        vertical-align: middle;\n",
       "    }\n",
       "\n",
       "    .dataframe tbody tr th {\n",
       "        vertical-align: top;\n",
       "    }\n",
       "\n",
       "    .dataframe thead th {\n",
       "        text-align: right;\n",
       "    }\n",
       "</style>\n",
       "<table border=\"1\" class=\"dataframe\">\n",
       "  <thead>\n",
       "    <tr style=\"text-align: right;\">\n",
       "      <th></th>\n",
       "      <th>model</th>\n",
       "      <th>flights_amount</th>\n",
       "      <th>percentage_of_flights</th>\n",
       "    </tr>\n",
       "  </thead>\n",
       "  <tbody>\n",
       "    <tr>\n",
       "      <td>0</td>\n",
       "      <td>Airbus A319-100</td>\n",
       "      <td>607</td>\n",
       "      <td>3.73</td>\n",
       "    </tr>\n",
       "    <tr>\n",
       "      <td>1</td>\n",
       "      <td>Airbus A321-200</td>\n",
       "      <td>960</td>\n",
       "      <td>5.89</td>\n",
       "    </tr>\n",
       "    <tr>\n",
       "      <td>2</td>\n",
       "      <td>Boeing 737-300</td>\n",
       "      <td>630</td>\n",
       "      <td>3.87</td>\n",
       "    </tr>\n",
       "    <tr>\n",
       "      <td>3</td>\n",
       "      <td>Boeing 767-300</td>\n",
       "      <td>600</td>\n",
       "      <td>3.68</td>\n",
       "    </tr>\n",
       "    <tr>\n",
       "      <td>4</td>\n",
       "      <td>Boeing 777-300</td>\n",
       "      <td>300</td>\n",
       "      <td>1.84</td>\n",
       "    </tr>\n",
       "    <tr>\n",
       "      <td>5</td>\n",
       "      <td>Bombardier CRJ-200</td>\n",
       "      <td>4446</td>\n",
       "      <td>27.30</td>\n",
       "    </tr>\n",
       "    <tr>\n",
       "      <td>6</td>\n",
       "      <td>Cessna 208 Caravan</td>\n",
       "      <td>4557</td>\n",
       "      <td>27.98</td>\n",
       "    </tr>\n",
       "    <tr>\n",
       "      <td>7</td>\n",
       "      <td>Sukhoi SuperJet-100</td>\n",
       "      <td>4185</td>\n",
       "      <td>25.70</td>\n",
       "    </tr>\n",
       "  </tbody>\n",
       "</table>\n",
       "</div>"
      ],
      "text/plain": [
       "                 model  flights_amount  percentage_of_flights\n",
       "0      Airbus A319-100             607                   3.73\n",
       "1      Airbus A321-200             960                   5.89\n",
       "2       Boeing 737-300             630                   3.87\n",
       "3       Boeing 767-300             600                   3.68\n",
       "4       Boeing 777-300             300                   1.84\n",
       "5   Bombardier CRJ-200            4446                  27.30\n",
       "6   Cessna 208 Caravan            4557                  27.98\n",
       "7  Sukhoi SuperJet-100            4185                  25.70"
      ]
     },
     "metadata": {},
     "output_type": "display_data"
    }
   ],
   "source": [
    "#добавление столбца с % полетов с разными моделями\n",
    "aircrafts_data['percentage_of_flights'] = aircrafts_data['flights_amount'] * 100 / sum(aircrafts_data['flights_amount'])\n",
    "aircrafts_data['percentage_of_flights'] = aircrafts_data['percentage_of_flights'].round(decimals=2)\n",
    "display(aircrafts_data)"
   ]
  },
  {
   "cell_type": "code",
   "execution_count": 7,
   "metadata": {},
   "outputs": [],
   "source": [
    "#cоздание таблицы с объединенными ячейками\n",
    "aircrafts_data_upd = aircrafts_data.loc[5:, ['model', 'flights_amount', 'percentage_of_flights']]\n",
    "aircrafts_data_upd.loc[3, 'model'] = 'Airbus'\n",
    "aircrafts_data_upd.loc[3, 'flights_amount'] = aircrafts_data.loc[0, 'flights_amount'] + aircrafts_data.loc[1, 'flights_amount']\n",
    "aircrafts_data_upd.loc[3, 'percentage_of_flights'] = aircrafts_data.loc[0, 'percentage_of_flights'] + aircrafts_data.loc[1, 'percentage_of_flights']\n",
    "aircrafts_data_upd.loc[4, 'model'] = 'Boeing'\n",
    "aircrafts_data_upd.loc[4, 'flights_amount'] = aircrafts_data.loc[2, 'flights_amount'] + aircrafts_data.loc[3, 'flights_amount']+ aircrafts_data.loc[4, 'flights_amount']\n",
    "aircrafts_data_upd.loc[4, 'percentage_of_flights'] = aircrafts_data.loc[2, 'percentage_of_flights'] + aircrafts_data.loc[3, 'percentage_of_flights']+ aircrafts_data.loc[4, 'percentage_of_flights']\n"
   ]
  },
  {
   "cell_type": "markdown",
   "metadata": {},
   "source": [
    "Для визуальной оценки взаимосвязи количества рейсов и типа моделей на основании данных датасета aircraft_data построим график распределения полетов."
   ]
  },
  {
   "cell_type": "code",
   "execution_count": 8,
   "metadata": {},
   "outputs": [
    {
     "data": {
      "text/html": [
       "<div>\n",
       "<style scoped>\n",
       "    .dataframe tbody tr th:only-of-type {\n",
       "        vertical-align: middle;\n",
       "    }\n",
       "\n",
       "    .dataframe tbody tr th {\n",
       "        vertical-align: top;\n",
       "    }\n",
       "\n",
       "    .dataframe thead th {\n",
       "        text-align: right;\n",
       "    }\n",
       "</style>\n",
       "<table border=\"1\" class=\"dataframe\">\n",
       "  <thead>\n",
       "    <tr style=\"text-align: right;\">\n",
       "      <th></th>\n",
       "      <th>index</th>\n",
       "      <th>model</th>\n",
       "      <th>flights_amount</th>\n",
       "      <th>percentage_of_flights</th>\n",
       "    </tr>\n",
       "  </thead>\n",
       "  <tbody>\n",
       "    <tr>\n",
       "      <td>0</td>\n",
       "      <td>6</td>\n",
       "      <td>Cessna 208 Caravan</td>\n",
       "      <td>4557.0</td>\n",
       "      <td>27.98</td>\n",
       "    </tr>\n",
       "    <tr>\n",
       "      <td>1</td>\n",
       "      <td>5</td>\n",
       "      <td>Bombardier CRJ-200</td>\n",
       "      <td>4446.0</td>\n",
       "      <td>27.30</td>\n",
       "    </tr>\n",
       "    <tr>\n",
       "      <td>2</td>\n",
       "      <td>7</td>\n",
       "      <td>Sukhoi SuperJet-100</td>\n",
       "      <td>4185.0</td>\n",
       "      <td>25.70</td>\n",
       "    </tr>\n",
       "    <tr>\n",
       "      <td>3</td>\n",
       "      <td>3</td>\n",
       "      <td>Airbus</td>\n",
       "      <td>1567.0</td>\n",
       "      <td>9.62</td>\n",
       "    </tr>\n",
       "    <tr>\n",
       "      <td>4</td>\n",
       "      <td>4</td>\n",
       "      <td>Boeing</td>\n",
       "      <td>1530.0</td>\n",
       "      <td>9.39</td>\n",
       "    </tr>\n",
       "  </tbody>\n",
       "</table>\n",
       "</div>"
      ],
      "text/plain": [
       "   index                model  flights_amount  percentage_of_flights\n",
       "0      6   Cessna 208 Caravan          4557.0                  27.98\n",
       "1      5   Bombardier CRJ-200          4446.0                  27.30\n",
       "2      7  Sukhoi SuperJet-100          4185.0                  25.70\n",
       "3      3               Airbus          1567.0                   9.62\n",
       "4      4               Boeing          1530.0                   9.39"
      ]
     },
     "metadata": {},
     "output_type": "display_data"
    }
   ],
   "source": [
    "# Сортировка таблицы по убыванию\n",
    "aircrafts_data_upd.sort_values(by='flights_amount', ascending=False, inplace=True)\n",
    "# Обновление индексов\n",
    "aircrafts_data_upd.reset_index(inplace=True)\n",
    "display(aircrafts_data_upd)"
   ]
  },
  {
   "cell_type": "code",
   "execution_count": 9,
   "metadata": {},
   "outputs": [
    {
     "data": {
      "image/png": "[encoded data removed]",
      "text/plain": [
       "<Figure size 1152x576 with 1 Axes>"
      ]
     },
     "metadata": {
      "needs_background": "light"
     },
     "output_type": "display_data"
    }
   ],
   "source": [
    "# построение графика количества полетов самолетов разных моделей\n",
    "# создание иллюстрации\n",
    "fig = plt.figure(figsize=(16, 8))\n",
    "# добавление одного графика на иллюстрацию\n",
    "graph = fig.add_subplot()\n",
    "# создание графика\n",
    "sns.barplot(x='model', y='flights_amount', data=aircrafts_data_upd, ax=graph)\n",
    "# создание названий\n",
    "plot_names(graph, 'Количество полетов самолетов разных моделей', 'Модели', 'Количество полетов')"
   ]
  },
  {
   "cell_type": "markdown",
   "metadata": {},
   "source": [
    "<a class=\"anchor\" id=\"0-bullet\">"
   ]
  },
  {
   "cell_type": "code",
   "execution_count": 10,
   "metadata": {},
   "outputs": [
    {
     "name": "stdout",
     "output_type": "stream",
     "text": [
      "[[6 'Cessna 208 Caravan' 4557.0 27.98]\n",
      " [5 'Bombardier CRJ-200' 4446.0 27.3]\n",
      " [7 'Sukhoi SuperJet-100' 4185.0 25.7]\n",
      " [3 'Airbus' 1567.0 9.62]\n",
      " [4 'Boeing' 1530.0 9.39]]\n"
     ]
    },
    {
     "data": {
      "text/html": [
       "<div>\n",
       "<style scoped>\n",
       "    .dataframe tbody tr th:only-of-type {\n",
       "        vertical-align: middle;\n",
       "    }\n",
       "\n",
       "    .dataframe tbody tr th {\n",
       "        vertical-align: top;\n",
       "    }\n",
       "\n",
       "    .dataframe thead th {\n",
       "        text-align: right;\n",
       "    }\n",
       "</style>\n",
       "<table border=\"1\" class=\"dataframe\">\n",
       "  <thead>\n",
       "    <tr style=\"text-align: right;\">\n",
       "      <th></th>\n",
       "      <th>type</th>\n",
       "      <th>flights_amount</th>\n",
       "      <th>flights_percentage</th>\n",
       "    </tr>\n",
       "  </thead>\n",
       "  <tbody>\n",
       "    <tr>\n",
       "      <td>0</td>\n",
       "      <td>малая авиация</td>\n",
       "      <td>4557.0</td>\n",
       "      <td>27.98</td>\n",
       "    </tr>\n",
       "    <tr>\n",
       "      <td>1</td>\n",
       "      <td>деловая авиация</td>\n",
       "      <td>4446.0</td>\n",
       "      <td>27.30</td>\n",
       "    </tr>\n",
       "    <tr>\n",
       "      <td>2</td>\n",
       "      <td>авиация общего назначения</td>\n",
       "      <td>7282.0</td>\n",
       "      <td>44.71</td>\n",
       "    </tr>\n",
       "  </tbody>\n",
       "</table>\n",
       "</div>"
      ],
      "text/plain": [
       "                        type  flights_amount  flights_percentage\n",
       "0              малая авиация          4557.0               27.98\n",
       "1            деловая авиация          4446.0               27.30\n",
       "2  авиация общего назначения          7282.0               44.71"
      ]
     },
     "metadata": {},
     "output_type": "display_data"
    }
   ],
   "source": [
    "# создание таблицы малой авиации и авиации общего назначения\n",
    "array = aircrafts_data_upd.values\n",
    "print(array)\n",
    "avia_small = array[0, 2]\n",
    "avia_small_per=array[0, 3]\n",
    "avia_business = array[1, 2]\n",
    "avia_business_per=array[1, 3]\n",
    "avia_all_purpose = sum(array[2:, 2])\n",
    "avia_all_purpose_per=sum(array[2:, 3])\n",
    "aviation = pd.DataFrame([['малая авиация', avia_small, avia_small_per],\n",
    "                         ['деловая авиация', avia_business, avia_business_per],\n",
    "                         ['авиация общего назначения', avia_all_purpose, avia_all_purpose_per]],\n",
    "                        columns=['type','flights_amount','flights_percentage'])\n",
    "display(aviation)"
   ]
  },
  {
   "cell_type": "code",
   "execution_count": 11,
   "metadata": {},
   "outputs": [
    {
     "data": {
      "image/png": "[encoded data removed]",
      "text/plain": [
       "<Figure size 648x648 with 1 Axes>"
      ]
     },
     "metadata": {},
     "output_type": "display_data"
    }
   ],
   "source": [
    "# cоздание круговой диаграммы типов авиации\n",
    "plot = aviation.plot.pie(y='flights_amount', figsize=(9, 9), labeldistance=None, labels=None)\n",
    "values = aviation['flights_amount']\n",
    "plt.pie(values, labels=aviation['flights_percentage'])\n",
    "plt.title('Количество полетов самолетов, относящихся к разным типам авиации')\n",
    "plt.legend(aviation['type'], loc=0)\n",
    "plt.show()"
   ]
  },
  {
   "cell_type": "markdown",
   "metadata": {},
   "source": [
    "***Для удобства в таблице объединили все сведения о моделях Airbus и Boeing были объединены, значения отсортированы по убыванию и построена диаграмма с количеством полетов разных моделей. После чего было принято решение проанализировать количество самолетов, относящихся к разным типам авиации - малой (до 9 мест, в основном частные и учебные полеты), деловой (до 50 мест, в основном корпоративные перелеты, перелеты официальных лиц и тд) и общего назначения (более 50 мест в самолете). Несмотря на то, что деловая и малая авиация занимают значительный сегмент полетов, однако все же полеты общего назначения представляют наибольшее количество полетов (44,71%).***"
   ]
  },
  {
   "cell_type": "markdown",
   "metadata": {},
   "source": [
    "<a id='the_destination9'></a>\n",
    "## 2.2. Анализ взаимосвязи города расположения аэропорта и количества рейсов"
   ]
  },
  {
   "cell_type": "markdown",
   "metadata": {},
   "source": [
    "<a id='the_destination10'></a>\n",
    "### 2.2.1. Выбор топ-10 городов по количеству рейсов"
   ]
  },
  {
   "cell_type": "code",
   "execution_count": 12,
   "metadata": {},
   "outputs": [
    {
     "data": {
      "text/html": [
       "<div>\n",
       "<style scoped>\n",
       "    .dataframe tbody tr th:only-of-type {\n",
       "        vertical-align: middle;\n",
       "    }\n",
       "\n",
       "    .dataframe tbody tr th {\n",
       "        vertical-align: top;\n",
       "    }\n",
       "\n",
       "    .dataframe thead th {\n",
       "        text-align: right;\n",
       "    }\n",
       "</style>\n",
       "<table border=\"1\" class=\"dataframe\">\n",
       "  <thead>\n",
       "    <tr style=\"text-align: right;\">\n",
       "      <th></th>\n",
       "      <th>index</th>\n",
       "      <th>city</th>\n",
       "      <th>average_flights</th>\n",
       "    </tr>\n",
       "  </thead>\n",
       "  <tbody>\n",
       "    <tr>\n",
       "      <td>0</td>\n",
       "      <td>43</td>\n",
       "      <td>Москва</td>\n",
       "      <td>130</td>\n",
       "    </tr>\n",
       "    <tr>\n",
       "      <td>1</td>\n",
       "      <td>70</td>\n",
       "      <td>Санкт-Петербург</td>\n",
       "      <td>31</td>\n",
       "    </tr>\n",
       "    <tr>\n",
       "      <td>2</td>\n",
       "      <td>54</td>\n",
       "      <td>Новосибирск</td>\n",
       "      <td>17</td>\n",
       "    </tr>\n",
       "    <tr>\n",
       "      <td>3</td>\n",
       "      <td>33</td>\n",
       "      <td>Красноярск</td>\n",
       "      <td>12</td>\n",
       "    </tr>\n",
       "    <tr>\n",
       "      <td>4</td>\n",
       "      <td>20</td>\n",
       "      <td>Екатеринбург</td>\n",
       "      <td>11</td>\n",
       "    </tr>\n",
       "    <tr>\n",
       "      <td>5</td>\n",
       "      <td>67</td>\n",
       "      <td>Ростов-на-Дону</td>\n",
       "      <td>10</td>\n",
       "    </tr>\n",
       "    <tr>\n",
       "      <td>6</td>\n",
       "      <td>74</td>\n",
       "      <td>Сочи</td>\n",
       "      <td>10</td>\n",
       "    </tr>\n",
       "    <tr>\n",
       "      <td>7</td>\n",
       "      <td>84</td>\n",
       "      <td>Ульяновск</td>\n",
       "      <td>10</td>\n",
       "    </tr>\n",
       "    <tr>\n",
       "      <td>8</td>\n",
       "      <td>63</td>\n",
       "      <td>Пермь</td>\n",
       "      <td>10</td>\n",
       "    </tr>\n",
       "    <tr>\n",
       "      <td>9</td>\n",
       "      <td>10</td>\n",
       "      <td>Брянск</td>\n",
       "      <td>10</td>\n",
       "    </tr>\n",
       "  </tbody>\n",
       "</table>\n",
       "</div>"
      ],
      "text/plain": [
       "   index             city  average_flights\n",
       "0     43           Москва              130\n",
       "1     70  Санкт-Петербург               31\n",
       "2     54      Новосибирск               17\n",
       "3     33       Красноярск               12\n",
       "4     20     Екатеринбург               11\n",
       "5     67   Ростов-на-Дону               10\n",
       "6     74             Сочи               10\n",
       "7     84        Ульяновск               10\n",
       "8     63            Пермь               10\n",
       "9     10           Брянск               10"
      ]
     },
     "metadata": {},
     "output_type": "display_data"
    }
   ],
   "source": [
    "# Сортировка таблицы по убыванию\n",
    "flights_data.sort_values(by='average_flights', ascending=False, inplace=True)\n",
    "# Обновление индексов\n",
    "flights_data.reset_index(inplace=True)\n",
    "# ТОП-10 городов\n",
    "display(flights_data.head(10))\n",
    "# Запись топ-10 городов в массив\n",
    "top_ten = flights_data.loc[0:9]\n"
   ]
  },
  {
   "cell_type": "markdown",
   "metadata": {},
   "source": [
    "Для определения топ-10 городов по количеству рейсов сначала была использована функция sort_values, а затем извлечен срез для 10 городов для удобства построения графиков."
   ]
  },
  {
   "cell_type": "markdown",
   "metadata": {},
   "source": [
    "<a id='the_destination11'></a>\n",
    "### 2.2.2. Построение графиков для топ-10 городов по количеству рейсов"
   ]
  },
  {
   "cell_type": "code",
   "execution_count": 13,
   "metadata": {},
   "outputs": [
    {
     "data": {
      "text/html": [
       "<div>\n",
       "<style scoped>\n",
       "    .dataframe tbody tr th:only-of-type {\n",
       "        vertical-align: middle;\n",
       "    }\n",
       "\n",
       "    .dataframe tbody tr th {\n",
       "        vertical-align: top;\n",
       "    }\n",
       "\n",
       "    .dataframe thead th {\n",
       "        text-align: right;\n",
       "    }\n",
       "</style>\n",
       "<table border=\"1\" class=\"dataframe\">\n",
       "  <thead>\n",
       "    <tr style=\"text-align: right;\">\n",
       "      <th></th>\n",
       "      <th>index</th>\n",
       "      <th>city</th>\n",
       "      <th>average_flights</th>\n",
       "      <th>percentage_of_flights</th>\n",
       "    </tr>\n",
       "  </thead>\n",
       "  <tbody>\n",
       "    <tr>\n",
       "      <td>0</td>\n",
       "      <td>43</td>\n",
       "      <td>Москва</td>\n",
       "      <td>130</td>\n",
       "      <td>51.79</td>\n",
       "    </tr>\n",
       "    <tr>\n",
       "      <td>1</td>\n",
       "      <td>70</td>\n",
       "      <td>Санкт-Петербург</td>\n",
       "      <td>31</td>\n",
       "      <td>12.35</td>\n",
       "    </tr>\n",
       "    <tr>\n",
       "      <td>2</td>\n",
       "      <td>54</td>\n",
       "      <td>Новосибирск</td>\n",
       "      <td>17</td>\n",
       "      <td>6.77</td>\n",
       "    </tr>\n",
       "    <tr>\n",
       "      <td>3</td>\n",
       "      <td>33</td>\n",
       "      <td>Красноярск</td>\n",
       "      <td>12</td>\n",
       "      <td>4.78</td>\n",
       "    </tr>\n",
       "    <tr>\n",
       "      <td>4</td>\n",
       "      <td>20</td>\n",
       "      <td>Екатеринбург</td>\n",
       "      <td>11</td>\n",
       "      <td>4.38</td>\n",
       "    </tr>\n",
       "    <tr>\n",
       "      <td>5</td>\n",
       "      <td>67</td>\n",
       "      <td>Ростов-на-Дону</td>\n",
       "      <td>10</td>\n",
       "      <td>3.98</td>\n",
       "    </tr>\n",
       "    <tr>\n",
       "      <td>6</td>\n",
       "      <td>74</td>\n",
       "      <td>Сочи</td>\n",
       "      <td>10</td>\n",
       "      <td>3.98</td>\n",
       "    </tr>\n",
       "    <tr>\n",
       "      <td>7</td>\n",
       "      <td>84</td>\n",
       "      <td>Ульяновск</td>\n",
       "      <td>10</td>\n",
       "      <td>3.98</td>\n",
       "    </tr>\n",
       "    <tr>\n",
       "      <td>8</td>\n",
       "      <td>63</td>\n",
       "      <td>Пермь</td>\n",
       "      <td>10</td>\n",
       "      <td>3.98</td>\n",
       "    </tr>\n",
       "    <tr>\n",
       "      <td>9</td>\n",
       "      <td>10</td>\n",
       "      <td>Брянск</td>\n",
       "      <td>10</td>\n",
       "      <td>3.98</td>\n",
       "    </tr>\n",
       "  </tbody>\n",
       "</table>\n",
       "</div>"
      ],
      "text/plain": [
       "   index             city  average_flights  percentage_of_flights\n",
       "0     43           Москва              130                  51.79\n",
       "1     70  Санкт-Петербург               31                  12.35\n",
       "2     54      Новосибирск               17                   6.77\n",
       "3     33       Красноярск               12                   4.78\n",
       "4     20     Екатеринбург               11                   4.38\n",
       "5     67   Ростов-на-Дону               10                   3.98\n",
       "6     74             Сочи               10                   3.98\n",
       "7     84        Ульяновск               10                   3.98\n",
       "8     63            Пермь               10                   3.98\n",
       "9     10           Брянск               10                   3.98"
      ]
     },
     "metadata": {},
     "output_type": "display_data"
    },
    {
     "data": {
      "image/png": "[encoded data removed]",
      "text/plain": [
       "<Figure size 1152x576 with 1 Axes>"
      ]
     },
     "metadata": {
      "needs_background": "light"
     },
     "output_type": "display_data"
    },
    {
     "data": {
      "image/png": "[encoded data removed]",
      "text/plain": [
       "<Figure size 720x720 with 1 Axes>"
      ]
     },
     "metadata": {},
     "output_type": "display_data"
    }
   ],
   "source": [
    "# построение графика количества полетов самолетов разных моделей\n",
    "# создание иллюстрации\n",
    "fig = plt.figure(figsize=(16, 8))\n",
    "# добавление одного графика на иллюстрацию\n",
    "graph = fig.add_subplot()\n",
    "# создание графика\n",
    "sns.barplot(x='city', y='average_flights', data=top_ten, ax=graph)\n",
    "# создание названий\n",
    "plot_names(graph, 'Количество полетов самолетов в разные города', 'Города', 'Количество полетов')\n",
    "\n",
    "#добавление столбца с % полетов в разные города\n",
    "top_ten['percentage_of_flights'] = top_ten['average_flights'] * 100 / sum(top_ten['average_flights'])\n",
    "top_ten['percentage_of_flights'] = top_ten['percentage_of_flights'].round(decimals=2)                                                                                       \n",
    "display(top_ten)\n",
    "#построение круговой диаграммы\n",
    "\n",
    "plot = top_ten.plot.pie(y='average_flights', figsize=(10, 10))\n",
    "values = top_ten['average_flights']\n",
    "labels = top_ten['city']\n",
    "plt.pie(values, labels= top_ten['percentage_of_flights'])\n",
    "plt.title('Количество полетов в аэропорты разных городов')\n",
    "plt.legend(labels, loc=2)\n",
    "plt.show()"
   ]
  },
  {
   "cell_type": "markdown",
   "metadata": {},
   "source": [
    "Как на круговой диаграмме, так и на графике видно, что большинство полетов совершалось в Москву, Санкт-Петербург и Новосибирск. Это самые крупные города России, поэтому подобная динамика коррелирует с данными о перелетах  - большинство пересадок также осуществляется через Санкт-Петербург, Москву или Новосибирск, поэтому нагрузка на аэропорты этих городов выше."
   ]
  },
  {
   "cell_type": "markdown",
   "metadata": {},
   "source": [
    "<a id='the_destination12'></a>\n",
    "# Вывод по разделу 2"
   ]
  },
  {
   "cell_type": "markdown",
   "metadata": {},
   "source": [
    "Наиболее нагруженные в исследуемый день в августе являются аэропорты Москвы, Санкт-Петербурга, Новосибирска, Красноярска, Екатеринбурга, Ростов-на-Дону\t, Сочи, Ульяновска, Перми, Брянска. Наиболее загруженная (более 50% вылетов) является Москва, также значительное количество вылетов осуществляется из Санкт-Петербурга и Новосибирска, что связано как с высоким населением этих городов, так и с осуществлением пересадочных рейсов в них."
   ]
  },
  {
   "cell_type": "markdown",
   "metadata": {},
   "source": [
    "<a id='the_destination13'></a>\n",
    "# Общий вывод"
   ]
  },
  {
   "cell_type": "markdown",
   "metadata": {},
   "source": [
    "В сентябре 2018  основная масса полетов приходилась на частные и официальные перелеты (более 50%).Больше всего полетов в сентябре 2018 года было совершенно на Cessna 208 Caravan и Bombardier CRJ200, на третьем месте находится Superjet-100. \n",
    "В августе наиболее загруженным аэропортом являлась Москва, что связано как с высоким населением , так и с осуществлением пересадочных рейсов в ней. Также высоко загруженными являются аэропорты Санкт-Петербурга, Новосибирска, Красноярска, Екатеринбурга, Ростов-на-Дону\t, Сочи, Ульяновска, Перми, Брянска. "
   ]
  }
 ],
 "metadata": {
  "kernelspec": {
   "display_name": "Python 3",
   "language": "python",
   "name": "python3"
  },
  "language_info": {
   "codemirror_mode": {
    "name": "ipython",
    "version": 3
   },
   "file_extension": ".py",
   "mimetype": "text/x-python",
   "name": "python",
   "nbconvert_exporter": "python",
   "pygments_lexer": "ipython3",
   "version": "3.7.6"
  }
 },
 "nbformat": 4,
 "nbformat_minor": 2
}
